{
  "cells": [
    {
      "cell_type": "markdown",
      "metadata": {
        "id": "028NEACxpLxt"
      },
      "source": [
        "# **<center>Analysis of online shoppers data**"
      ]
    },
    {
      "cell_type": "markdown",
      "metadata": {
        "id": "QTPraDohqrLj"
      },
      "source": [
        "DataLink:-</br>\n",
        "https://drive.google.com/file/d/1PYVO_O8fWzv3xO_lAe1tUx9zFydMciw8/view?usp=share_link</br>\n",
        "Data Description: -</br>\n",
        "https://drive.google.com/file/d/1pj8PF9YmkYvXqDmJ3lUorbHhys8SB0PR/view?usp=share_link\n"
      ]
    },
    {
      "cell_type": "markdown",
      "metadata": {
        "id": "Fs1e2UI2rE-7"
      },
      "source": [
        "**Questions:**"
      ]
    },
    {
      "cell_type": "markdown",
      "metadata": {
        "id": "rwqvRvU_rNV_"
      },
      "source": [
        "**1.** Gather and prepare data: Gather and prepare the data you will use to train the model.\n",
        "This may involve collecting data from various sources, do EDA, cleaning and formatting\n",
        "the data, and splitting it into training, validation, and testing sets.\n"
      ]
    },
    {
      "cell_type": "markdown",
      "metadata": {
        "id": "KW766AzP1qaJ"
      },
      "source": [
        "**Data Collection**"
      ]
    },
    {
      "cell_type": "code",
      "execution_count": null,
      "metadata": {
        "colab": {
          "base_uri": "https://localhost:8080/"
        },
        "id": "4fKYY8nErMDk",
        "outputId": "e3e96020-564d-4436-c8e5-cc5ccbeea3cb"
      },
      "outputs": [
        {
          "name": "stdout",
          "output_type": "stream",
          "text": [
            "Downloading...\n",
            "From: https://drive.google.com/uc?id=1PYVO_O8fWzv3xO_lAe1tUx9zFydMciw8\n",
            "To: /content/online_shoppers_intention.csv\n",
            "\r  0% 0.00/1.07M [00:00<?, ?B/s]\r100% 1.07M/1.07M [00:00<00:00, 67.1MB/s]\n"
          ]
        }
      ],
      "source": [
        "# Download file from link)\n",
        "# in given link, id = 1PYVO_O8fWzv3xO_lAe1tUx9zFydMciw8\n",
        "\n",
        "!gdown https://drive.google.com/uc?id=1PYVO_O8fWzv3xO_lAe1tUx9zFydMciw8"
      ]
    },
    {
      "cell_type": "code",
      "execution_count": null,
      "metadata": {
        "id": "r_CCMW--snL-"
      },
      "outputs": [],
      "source": [
        "import numpy as np\n",
        "import pandas as pd\n",
        "import matplotlib.pyplot as plt\n",
        "import seaborn as sns\n",
        "\n",
        "import warnings\n",
        "warnings.filterwarnings(\"ignore\")"
      ]
    },
    {
      "cell_type": "code",
      "execution_count": null,
      "metadata": {
        "colab": {
          "base_uri": "https://localhost:8080/",
          "height": 270
        },
        "id": "BoCib1nds4ab",
        "outputId": "aa79b34a-0018-4ea1-adb5-d5d15434fd09"
      },
      "outputs": [
        {
          "data": {
            "text/html": [
              "\n",
              "  <div id=\"df-a45bd0ad-5dad-4b12-9853-bb4b0c736875\">\n",
              "    <div class=\"colab-df-container\">\n",
              "      <div>\n",
              "<style scoped>\n",
              "    .dataframe tbody tr th:only-of-type {\n",
              "        vertical-align: middle;\n",
              "    }\n",
              "\n",
              "    .dataframe tbody tr th {\n",
              "        vertical-align: top;\n",
              "    }\n",
              "\n",
              "    .dataframe thead th {\n",
              "        text-align: right;\n",
              "    }\n",
              "</style>\n",
              "<table border=\"1\" class=\"dataframe\">\n",
              "  <thead>\n",
              "    <tr style=\"text-align: right;\">\n",
              "      <th></th>\n",
              "      <th>Administrative</th>\n",
              "      <th>Administrative_Duration</th>\n",
              "      <th>Informational</th>\n",
              "      <th>Informational_Duration</th>\n",
              "      <th>ProductRelated</th>\n",
              "      <th>ProductRelated_Duration</th>\n",
              "      <th>BounceRates</th>\n",
              "      <th>ExitRates</th>\n",
              "      <th>PageValues</th>\n",
              "      <th>SpecialDay</th>\n",
              "      <th>Month</th>\n",
              "      <th>OperatingSystems</th>\n",
              "      <th>Browser</th>\n",
              "      <th>Region</th>\n",
              "      <th>TrafficType</th>\n",
              "      <th>VisitorType</th>\n",
              "      <th>Weekend</th>\n",
              "      <th>Revenue</th>\n",
              "    </tr>\n",
              "  </thead>\n",
              "  <tbody>\n",
              "    <tr>\n",
              "      <th>0</th>\n",
              "      <td>0</td>\n",
              "      <td>0.0</td>\n",
              "      <td>0</td>\n",
              "      <td>0.0</td>\n",
              "      <td>1</td>\n",
              "      <td>0.000000</td>\n",
              "      <td>0.20</td>\n",
              "      <td>0.20</td>\n",
              "      <td>0.0</td>\n",
              "      <td>0.0</td>\n",
              "      <td>Feb</td>\n",
              "      <td>1</td>\n",
              "      <td>1</td>\n",
              "      <td>1</td>\n",
              "      <td>1</td>\n",
              "      <td>Returning_Visitor</td>\n",
              "      <td>False</td>\n",
              "      <td>False</td>\n",
              "    </tr>\n",
              "    <tr>\n",
              "      <th>1</th>\n",
              "      <td>0</td>\n",
              "      <td>0.0</td>\n",
              "      <td>0</td>\n",
              "      <td>0.0</td>\n",
              "      <td>2</td>\n",
              "      <td>64.000000</td>\n",
              "      <td>0.00</td>\n",
              "      <td>0.10</td>\n",
              "      <td>0.0</td>\n",
              "      <td>0.0</td>\n",
              "      <td>Feb</td>\n",
              "      <td>2</td>\n",
              "      <td>2</td>\n",
              "      <td>1</td>\n",
              "      <td>2</td>\n",
              "      <td>Returning_Visitor</td>\n",
              "      <td>False</td>\n",
              "      <td>False</td>\n",
              "    </tr>\n",
              "    <tr>\n",
              "      <th>2</th>\n",
              "      <td>0</td>\n",
              "      <td>0.0</td>\n",
              "      <td>0</td>\n",
              "      <td>0.0</td>\n",
              "      <td>1</td>\n",
              "      <td>0.000000</td>\n",
              "      <td>0.20</td>\n",
              "      <td>0.20</td>\n",
              "      <td>0.0</td>\n",
              "      <td>0.0</td>\n",
              "      <td>Feb</td>\n",
              "      <td>4</td>\n",
              "      <td>1</td>\n",
              "      <td>9</td>\n",
              "      <td>3</td>\n",
              "      <td>Returning_Visitor</td>\n",
              "      <td>False</td>\n",
              "      <td>False</td>\n",
              "    </tr>\n",
              "    <tr>\n",
              "      <th>3</th>\n",
              "      <td>0</td>\n",
              "      <td>0.0</td>\n",
              "      <td>0</td>\n",
              "      <td>0.0</td>\n",
              "      <td>2</td>\n",
              "      <td>2.666667</td>\n",
              "      <td>0.05</td>\n",
              "      <td>0.14</td>\n",
              "      <td>0.0</td>\n",
              "      <td>0.0</td>\n",
              "      <td>Feb</td>\n",
              "      <td>3</td>\n",
              "      <td>2</td>\n",
              "      <td>2</td>\n",
              "      <td>4</td>\n",
              "      <td>Returning_Visitor</td>\n",
              "      <td>False</td>\n",
              "      <td>False</td>\n",
              "    </tr>\n",
              "    <tr>\n",
              "      <th>4</th>\n",
              "      <td>0</td>\n",
              "      <td>0.0</td>\n",
              "      <td>0</td>\n",
              "      <td>0.0</td>\n",
              "      <td>10</td>\n",
              "      <td>627.500000</td>\n",
              "      <td>0.02</td>\n",
              "      <td>0.05</td>\n",
              "      <td>0.0</td>\n",
              "      <td>0.0</td>\n",
              "      <td>Feb</td>\n",
              "      <td>3</td>\n",
              "      <td>3</td>\n",
              "      <td>1</td>\n",
              "      <td>4</td>\n",
              "      <td>Returning_Visitor</td>\n",
              "      <td>True</td>\n",
              "      <td>False</td>\n",
              "    </tr>\n",
              "  </tbody>\n",
              "</table>\n",
              "</div>\n",
              "      <button class=\"colab-df-convert\" onclick=\"convertToInteractive('df-a45bd0ad-5dad-4b12-9853-bb4b0c736875')\"\n",
              "              title=\"Convert this dataframe to an interactive table.\"\n",
              "              style=\"display:none;\">\n",
              "        \n",
              "  <svg xmlns=\"http://www.w3.org/2000/svg\" height=\"24px\"viewBox=\"0 0 24 24\"\n",
              "       width=\"24px\">\n",
              "    <path d=\"M0 0h24v24H0V0z\" fill=\"none\"/>\n",
              "    <path d=\"M18.56 5.44l.94 2.06.94-2.06 2.06-.94-2.06-.94-.94-2.06-.94 2.06-2.06.94zm-11 1L8.5 8.5l.94-2.06 2.06-.94-2.06-.94L8.5 2.5l-.94 2.06-2.06.94zm10 10l.94 2.06.94-2.06 2.06-.94-2.06-.94-.94-2.06-.94 2.06-2.06.94z\"/><path d=\"M17.41 7.96l-1.37-1.37c-.4-.4-.92-.59-1.43-.59-.52 0-1.04.2-1.43.59L10.3 9.45l-7.72 7.72c-.78.78-.78 2.05 0 2.83L4 21.41c.39.39.9.59 1.41.59.51 0 1.02-.2 1.41-.59l7.78-7.78 2.81-2.81c.8-.78.8-2.07 0-2.86zM5.41 20L4 18.59l7.72-7.72 1.47 1.35L5.41 20z\"/>\n",
              "  </svg>\n",
              "      </button>\n",
              "      \n",
              "  <style>\n",
              "    .colab-df-container {\n",
              "      display:flex;\n",
              "      flex-wrap:wrap;\n",
              "      gap: 12px;\n",
              "    }\n",
              "\n",
              "    .colab-df-convert {\n",
              "      background-color: #E8F0FE;\n",
              "      border: none;\n",
              "      border-radius: 50%;\n",
              "      cursor: pointer;\n",
              "      display: none;\n",
              "      fill: #1967D2;\n",
              "      height: 32px;\n",
              "      padding: 0 0 0 0;\n",
              "      width: 32px;\n",
              "    }\n",
              "\n",
              "    .colab-df-convert:hover {\n",
              "      background-color: #E2EBFA;\n",
              "      box-shadow: 0px 1px 2px rgba(60, 64, 67, 0.3), 0px 1px 3px 1px rgba(60, 64, 67, 0.15);\n",
              "      fill: #174EA6;\n",
              "    }\n",
              "\n",
              "    [theme=dark] .colab-df-convert {\n",
              "      background-color: #3B4455;\n",
              "      fill: #D2E3FC;\n",
              "    }\n",
              "\n",
              "    [theme=dark] .colab-df-convert:hover {\n",
              "      background-color: #434B5C;\n",
              "      box-shadow: 0px 1px 3px 1px rgba(0, 0, 0, 0.15);\n",
              "      filter: drop-shadow(0px 1px 2px rgba(0, 0, 0, 0.3));\n",
              "      fill: #FFFFFF;\n",
              "    }\n",
              "  </style>\n",
              "\n",
              "      <script>\n",
              "        const buttonEl =\n",
              "          document.querySelector('#df-a45bd0ad-5dad-4b12-9853-bb4b0c736875 button.colab-df-convert');\n",
              "        buttonEl.style.display =\n",
              "          google.colab.kernel.accessAllowed ? 'block' : 'none';\n",
              "\n",
              "        async function convertToInteractive(key) {\n",
              "          const element = document.querySelector('#df-a45bd0ad-5dad-4b12-9853-bb4b0c736875');\n",
              "          const dataTable =\n",
              "            await google.colab.kernel.invokeFunction('convertToInteractive',\n",
              "                                                     [key], {});\n",
              "          if (!dataTable) return;\n",
              "\n",
              "          const docLinkHtml = 'Like what you see? Visit the ' +\n",
              "            '<a target=\"_blank\" href=https://colab.research.google.com/notebooks/data_table.ipynb>data table notebook</a>'\n",
              "            + ' to learn more about interactive tables.';\n",
              "          element.innerHTML = '';\n",
              "          dataTable['output_type'] = 'display_data';\n",
              "          await google.colab.output.renderOutput(dataTable, element);\n",
              "          const docLink = document.createElement('div');\n",
              "          docLink.innerHTML = docLinkHtml;\n",
              "          element.appendChild(docLink);\n",
              "        }\n",
              "      </script>\n",
              "    </div>\n",
              "  </div>\n",
              "  "
            ],
            "text/plain": [
              "   Administrative  Administrative_Duration  Informational  \\\n",
              "0               0                      0.0              0   \n",
              "1               0                      0.0              0   \n",
              "2               0                      0.0              0   \n",
              "3               0                      0.0              0   \n",
              "4               0                      0.0              0   \n",
              "\n",
              "   Informational_Duration  ProductRelated  ProductRelated_Duration  \\\n",
              "0                     0.0               1                 0.000000   \n",
              "1                     0.0               2                64.000000   \n",
              "2                     0.0               1                 0.000000   \n",
              "3                     0.0               2                 2.666667   \n",
              "4                     0.0              10               627.500000   \n",
              "\n",
              "   BounceRates  ExitRates  PageValues  SpecialDay Month  OperatingSystems  \\\n",
              "0         0.20       0.20         0.0         0.0   Feb                 1   \n",
              "1         0.00       0.10         0.0         0.0   Feb                 2   \n",
              "2         0.20       0.20         0.0         0.0   Feb                 4   \n",
              "3         0.05       0.14         0.0         0.0   Feb                 3   \n",
              "4         0.02       0.05         0.0         0.0   Feb                 3   \n",
              "\n",
              "   Browser  Region  TrafficType        VisitorType  Weekend  Revenue  \n",
              "0        1       1            1  Returning_Visitor    False    False  \n",
              "1        2       1            2  Returning_Visitor    False    False  \n",
              "2        1       9            3  Returning_Visitor    False    False  \n",
              "3        2       2            4  Returning_Visitor    False    False  \n",
              "4        3       1            4  Returning_Visitor     True    False  "
            ]
          },
          "execution_count": 5,
          "metadata": {},
          "output_type": "execute_result"
        }
      ],
      "source": [
        "df = pd.read_csv(\"/content/online_shoppers_intention.csv\")\n",
        "df.head()"
      ]
    },
    {
      "cell_type": "markdown",
      "metadata": {
        "id": "q1GD7a123g1K"
      },
      "source": [
        "**EDA**"
      ]
    },
    {
      "cell_type": "code",
      "execution_count": null,
      "metadata": {
        "colab": {
          "base_uri": "https://localhost:8080/"
        },
        "id": "3q5vybrx3LqC",
        "outputId": "ef394d91-7fd8-4182-81df-b2eb6f1b1cad"
      },
      "outputs": [
        {
          "name": "stdout",
          "output_type": "stream",
          "text": [
            "<class 'pandas.core.frame.DataFrame'>\n",
            "RangeIndex: 12330 entries, 0 to 12329\n",
            "Data columns (total 18 columns):\n",
            " #   Column                   Non-Null Count  Dtype  \n",
            "---  ------                   --------------  -----  \n",
            " 0   Administrative           12330 non-null  int64  \n",
            " 1   Administrative_Duration  12330 non-null  float64\n",
            " 2   Informational            12330 non-null  int64  \n",
            " 3   Informational_Duration   12330 non-null  float64\n",
            " 4   ProductRelated           12330 non-null  int64  \n",
            " 5   ProductRelated_Duration  12330 non-null  float64\n",
            " 6   BounceRates              12330 non-null  float64\n",
            " 7   ExitRates                12330 non-null  float64\n",
            " 8   PageValues               12330 non-null  float64\n",
            " 9   SpecialDay               12330 non-null  float64\n",
            " 10  Month                    12330 non-null  object \n",
            " 11  OperatingSystems         12330 non-null  int64  \n",
            " 12  Browser                  12330 non-null  int64  \n",
            " 13  Region                   12330 non-null  int64  \n",
            " 14  TrafficType              12330 non-null  int64  \n",
            " 15  VisitorType              12330 non-null  object \n",
            " 16  Weekend                  12330 non-null  bool   \n",
            " 17  Revenue                  12330 non-null  bool   \n",
            "dtypes: bool(2), float64(7), int64(7), object(2)\n",
            "memory usage: 1.5+ MB\n"
          ]
        }
      ],
      "source": [
        "df.info()"
      ]
    },
    {
      "cell_type": "code",
      "execution_count": null,
      "metadata": {
        "colab": {
          "base_uri": "https://localhost:8080/"
        },
        "id": "zFILoinh3jt-",
        "outputId": "b54cc96e-2417-453d-b222-5de6fee4118e"
      },
      "outputs": [
        {
          "data": {
            "text/plain": [
              "Administrative               27\n",
              "Administrative_Duration    3335\n",
              "Informational                17\n",
              "Informational_Duration     1258\n",
              "ProductRelated              311\n",
              "ProductRelated_Duration    9551\n",
              "BounceRates                1872\n",
              "ExitRates                  4777\n",
              "PageValues                 2704\n",
              "SpecialDay                    6\n",
              "Month                        10\n",
              "OperatingSystems              8\n",
              "Browser                      13\n",
              "Region                        9\n",
              "TrafficType                  20\n",
              "VisitorType                   3\n",
              "Weekend                       2\n",
              "Revenue                       2\n",
              "dtype: int64"
            ]
          },
          "execution_count": 68,
          "metadata": {},
          "output_type": "execute_result"
        }
      ],
      "source": [
        "df.nunique()"
      ]
    },
    {
      "cell_type": "code",
      "execution_count": null,
      "metadata": {
        "colab": {
          "base_uri": "https://localhost:8080/"
        },
        "id": "YcT5kZ69AVFc",
        "outputId": "44f567e6-56f8-408c-bcaa-28e0a89f2e87"
      },
      "outputs": [
        {
          "data": {
            "text/plain": [
              "Administrative             0\n",
              "Administrative_Duration    0\n",
              "Informational              0\n",
              "Informational_Duration     0\n",
              "ProductRelated             0\n",
              "ProductRelated_Duration    0\n",
              "BounceRates                0\n",
              "ExitRates                  0\n",
              "PageValues                 0\n",
              "SpecialDay                 0\n",
              "Month                      0\n",
              "OperatingSystems           0\n",
              "Browser                    0\n",
              "Region                     0\n",
              "TrafficType                0\n",
              "VisitorType                0\n",
              "Weekend                    0\n",
              "Revenue                    0\n",
              "dtype: int64"
            ]
          },
          "execution_count": 69,
          "metadata": {},
          "output_type": "execute_result"
        }
      ],
      "source": [
        "df.isna().sum()\n",
        "\n",
        "# There is no null values"
      ]
    },
    {
      "cell_type": "code",
      "execution_count": null,
      "metadata": {
        "colab": {
          "base_uri": "https://localhost:8080/"
        },
        "id": "sUEmsO8A5Sso",
        "outputId": "54874ca5-2f4d-4a11-d6c6-da6c93ffd011"
      },
      "outputs": [
        {
          "data": {
            "text/plain": [
              "False    10422\n",
              "True      1908\n",
              "Name: Revenue, dtype: int64"
            ]
          },
          "execution_count": 70,
          "metadata": {},
          "output_type": "execute_result"
        }
      ],
      "source": [
        "df[\"Revenue\"].value_counts()\n",
        "\n",
        "# Data is biased we have to make it balance by using smote technique"
      ]
    },
    {
      "cell_type": "code",
      "execution_count": null,
      "metadata": {
        "colab": {
          "base_uri": "https://localhost:8080/"
        },
        "id": "FcsqEnmABeFF",
        "outputId": "a2c53e2b-6e4a-4936-cedb-c3ff8aca6dae"
      },
      "outputs": [
        {
          "data": {
            "text/plain": [
              "Index(['Month', 'VisitorType', 'Weekend', 'Revenue'], dtype='object')"
            ]
          },
          "execution_count": 71,
          "metadata": {},
          "output_type": "execute_result"
        }
      ],
      "source": [
        "df.select_dtypes(exclude=(int,float)).columns"
      ]
    },
    {
      "cell_type": "markdown",
      "metadata": {
        "id": "hkdShF0phWhV"
      },
      "source": [
        "**Data Cleaning**"
      ]
    },
    {
      "cell_type": "code",
      "execution_count": null,
      "metadata": {
        "id": "VuMooTMOB2R8"
      },
      "outputs": [],
      "source": [
        "# Encoding to object data type columns\n",
        "df[\"Month\"].replace({\"Feb\":2,\"Mar\":3,\"May\":5, 'Oct':10, 'June':6, 'Jul':7, 'Aug':8, 'Nov':11, 'Sep':9, 'Dec':12}, inplace=True)\n",
        "\n",
        "df[\"VisitorType\"].replace({'Returning_Visitor':0, 'New_Visitor':1, 'Other':2}, inplace=True)"
      ]
    },
    {
      "cell_type": "code",
      "execution_count": null,
      "metadata": {
        "colab": {
          "base_uri": "https://localhost:8080/"
        },
        "id": "H3BS04E9idNj",
        "outputId": "014f6e39-8013-48b2-c802-db867f0d1171"
      },
      "outputs": [
        {
          "data": {
            "text/plain": [
              "False    10422\n",
              "True      1908\n",
              "Name: Revenue, dtype: int64"
            ]
          },
          "execution_count": 6,
          "metadata": {},
          "output_type": "execute_result"
        }
      ],
      "source": [
        "df[\"Revenue\"].value_counts()\n",
        "\n",
        "# Data is biased"
      ]
    },
    {
      "cell_type": "code",
      "execution_count": null,
      "metadata": {
        "id": "30Cx6wC7EuaA"
      },
      "outputs": [],
      "source": [
        "x = df.drop([\"Revenue\"], axis=1)\n",
        "y = df[\"Revenue\"]"
      ]
    },
    {
      "cell_type": "code",
      "execution_count": null,
      "metadata": {
        "colab": {
          "base_uri": "https://localhost:8080/"
        },
        "id": "sDZeytxhDoNx",
        "outputId": "d7e152c9-eab0-45f1-ec9c-5bc9e8d3f4a4"
      },
      "outputs": [
        {
          "data": {
            "text/plain": [
              "False    10422\n",
              "True     10422\n",
              "Name: Revenue, dtype: int64"
            ]
          },
          "execution_count": 63,
          "metadata": {},
          "output_type": "execute_result"
        }
      ],
      "source": [
        "# As Data is biased, so we have to make it balance by using smote technique\n",
        "\n",
        "from pandas.core.common import random_state\n",
        "from imblearn.over_sampling import SMOTE\n",
        "smt = SMOTE()\n",
        "x_sample, y_sample = smt.fit_resample(x,y)\n",
        "y_sample.value_counts()\n",
        "\n",
        "# Now data is Balance"
      ]
    },
    {
      "cell_type": "markdown",
      "metadata": {
        "id": "gUd4mnxBjf9F"
      },
      "source": [
        "**Train Test Split**"
      ]
    },
    {
      "cell_type": "code",
      "execution_count": null,
      "metadata": {
        "id": "nz2KfpR9jetK"
      },
      "outputs": [],
      "source": [
        "from sklearn.model_selection import train_test_split\n",
        "x_train,x_test,y_train,y_test = train_test_split(x_sample,y_sample,test_size=0.2, random_state=42)"
      ]
    },
    {
      "cell_type": "code",
      "execution_count": null,
      "metadata": {
        "colab": {
          "base_uri": "https://localhost:8080/"
        },
        "id": "LcQkvfm05bEw",
        "outputId": "84fb1686-0515-44a5-b3dc-164950584973"
      },
      "outputs": [
        {
          "data": {
            "text/plain": [
              "(16675, 17)"
            ]
          },
          "execution_count": 46,
          "metadata": {},
          "output_type": "execute_result"
        }
      ],
      "source": [
        "x_train.shape"
      ]
    },
    {
      "cell_type": "code",
      "execution_count": null,
      "metadata": {
        "colab": {
          "base_uri": "https://localhost:8080/"
        },
        "id": "iKOh8Rd_6B6f",
        "outputId": "ab2963bc-69a5-49fd-f93d-6f900637e906"
      },
      "outputs": [
        {
          "data": {
            "text/plain": [
              "(4169, 17)"
            ]
          },
          "execution_count": 47,
          "metadata": {},
          "output_type": "execute_result"
        }
      ],
      "source": [
        "x_test.shape"
      ]
    },
    {
      "cell_type": "markdown",
      "metadata": {
        "id": "ywXJCExNlJSm"
      },
      "source": [
        "**2. Choose a model: Use Decision Tree Algorithm.**\n",
        "\n",
        "**Create Model**"
      ]
    },
    {
      "cell_type": "code",
      "execution_count": null,
      "metadata": {
        "id": "ng0z8de5AO09"
      },
      "outputs": [],
      "source": [
        "from sklearn.tree import DecisionTreeClassifier\n",
        "\n",
        "model = DecisionTreeClassifier()"
      ]
    },
    {
      "cell_type": "markdown",
      "metadata": {
        "id": "Is5yRuZJplH8"
      },
      "source": [
        "**3. Train the model: You'll need to train it using the data you collected and prepared in step 2. This involves feeding the data into the model and adjusting the model's parameters until it produces accurate results.**"
      ]
    },
    {
      "cell_type": "code",
      "execution_count": null,
      "metadata": {
        "id": "EjdCTg7SqRxI"
      },
      "outputs": [],
      "source": [
        "model.fit(x_train,y_train)\n",
        "y_pred_test = model.predict(x_test)\n",
        "y_pred_train = model.predict(x_train)"
      ]
    },
    {
      "cell_type": "markdown",
      "metadata": {
        "id": "3EL8ov1Dsxz8"
      },
      "source": [
        "**4. Evaluate the model: After training the model, you'll need to evaluate its performance using the validation and testing sets. This will help you determine how well the model is able to generalize to new data and whether it is overfitting or underfitting.**"
      ]
    },
    {
      "cell_type": "code",
      "execution_count": null,
      "metadata": {
        "colab": {
          "base_uri": "https://localhost:8080/"
        },
        "id": "pp2smjoAo2zp",
        "outputId": "dff02fdc-4b59-49e6-a813-86c464d866ed"
      },
      "outputs": [
        {
          "name": "stdout",
          "output_type": "stream",
          "text": [
            "Testing Accuracy is: 0.8970976253298153\n",
            "Training Accuracy is: 1.0\n"
          ]
        }
      ],
      "source": [
        "from sklearn.metrics import accuracy_score,confusion_matrix,classification_report\n",
        "print(f\"Testing Accuracy is: {accuracy_score(y_pred_test,y_test)}\")\n",
        "print(f\"Training Accuracy is: {accuracy_score(y_pred_train,y_train)}\")"
      ]
    },
    {
      "cell_type": "markdown",
      "metadata": {
        "id": "c5SCsvJks5bj"
      },
      "source": [
        "#####Training Accuracy of model is 1 and testing accuracy is 0.89, Means our model is get overfitted"
      ]
    },
    {
      "cell_type": "code",
      "execution_count": null,
      "metadata": {
        "colab": {
          "base_uri": "https://localhost:8080/"
        },
        "id": "HagmASyHo6ty",
        "outputId": "b59da139-7952-4a1b-b1c8-aa6403445e74"
      },
      "outputs": [
        {
          "name": "stdout",
          "output_type": "stream",
          "text": [
            "confusion_matrix: \n",
            "[[8360    0]\n",
            " [   0 8315]]\n",
            "Training Accuracy is: 1.0\n",
            "Classification Report is: \n",
            "              precision    recall  f1-score   support\n",
            "\n",
            "       False       1.00      1.00      1.00      8360\n",
            "        True       1.00      1.00      1.00      8315\n",
            "\n",
            "    accuracy                           1.00     16675\n",
            "   macro avg       1.00      1.00      1.00     16675\n",
            "weighted avg       1.00      1.00      1.00     16675\n",
            "\n"
          ]
        }
      ],
      "source": [
        "# Training Performance\n",
        "\n",
        "cnf_mat = confusion_matrix(y_pred_train,y_train)\n",
        "accuracy = accuracy_score(y_pred_train,y_train)\n",
        "report = classification_report(y_pred_train,y_train)\n",
        "\n",
        "print(f\"confusion_matrix: \\n{cnf_mat}\")\n",
        "print(f\"Training Accuracy is: {accuracy}\")\n",
        "print(f\"Classification Report is: \\n{report}\")"
      ]
    },
    {
      "cell_type": "code",
      "execution_count": null,
      "metadata": {
        "colab": {
          "base_uri": "https://localhost:8080/"
        },
        "id": "CmqgjU7-xsQX",
        "outputId": "b6445cfd-b40a-44e4-e48d-a4e56cbf3f82"
      },
      "outputs": [
        {
          "name": "stdout",
          "output_type": "stream",
          "text": [
            "confusion_matrix: \n",
            "[[1825  192]\n",
            " [ 237 1915]]\n",
            "Testing Accuracy is: 0.8970976253298153\n",
            "Classification Report is: \n",
            "              precision    recall  f1-score   support\n",
            "\n",
            "       False       0.89      0.90      0.89      2017\n",
            "        True       0.91      0.89      0.90      2152\n",
            "\n",
            "    accuracy                           0.90      4169\n",
            "   macro avg       0.90      0.90      0.90      4169\n",
            "weighted avg       0.90      0.90      0.90      4169\n",
            "\n"
          ]
        }
      ],
      "source": [
        "# Testing Performance\n",
        "\n",
        "cnf_mat = confusion_matrix(y_pred_test,y_test)\n",
        "accuracy = accuracy_score(y_pred_test,y_test)\n",
        "report = classification_report(y_pred_test,y_test)\n",
        "\n",
        "print(f\"confusion_matrix: \\n{cnf_mat}\")\n",
        "print(f\"Testing Accuracy is: {accuracy}\")\n",
        "print(f\"Classification Report is: \\n{report}\")"
      ]
    },
    {
      "cell_type": "code",
      "execution_count": null,
      "metadata": {
        "id": "pzsTgP_AygGo"
      },
      "outputs": [],
      "source": [
        "# for training data Precision, recall and accuracy is 1\n",
        "# for testing data accuracy is 0.89\n",
        "# Model is overfitted"
      ]
    },
    {
      "cell_type": "markdown",
      "metadata": {
        "id": "tGoxv-yiz2IB"
      },
      "source": [
        "**5. Fine-tune the model: Based on the results of the evaluation, you may need to fine-tune the model by adjusting the model's parameters, selecting different features, or using a different model architecture.**"
      ]
    },
    {
      "cell_type": "code",
      "execution_count": null,
      "metadata": {
        "id": "HVux_YNY0Qoe"
      },
      "outputs": [],
      "source": [
        "# Parameter to be tune\n",
        "param_grid = {\n",
        "    'criterion': ['gini', 'entropy'],\n",
        "    'max_depth': [2, 4, 6, 8, 10],\n",
        "    'min_samples_leaf': [1, 2, 4, 8],\n",
        "    'min_samples_split': [2, 4, 8, 16]\n",
        "}"
      ]
    },
    {
      "cell_type": "code",
      "execution_count": null,
      "metadata": {
        "colab": {
          "base_uri": "https://localhost:8080/"
        },
        "id": "iLIFTWJ3z5ei",
        "outputId": "5fd2d232-bd52-4cf2-d37a-68adde74b120"
      },
      "outputs": [
        {
          "name": "stdout",
          "output_type": "stream",
          "text": [
            "Best hyperparameters: {'criterion': 'gini', 'max_depth': 8, 'min_samples_leaf': 2, 'min_samples_split': 2}\n",
            "Best accuracy score: 0.8992503748125937\n"
          ]
        }
      ],
      "source": [
        "# hyper parameter tuning by grid GridSearchCV\n",
        "\n",
        "from sklearn.model_selection import GridSearchCV\n",
        "grid_search = GridSearchCV(model,param_grid, cv=5,scoring='accuracy', n_jobs=-1)\n",
        "grid_search.fit(x_train,y_train)\n",
        "print(\"Best hyperparameters:\", grid_search.best_params_)\n",
        "print(\"Best accuracy score:\", grid_search.best_score_)"
      ]
    },
    {
      "cell_type": "code",
      "execution_count": null,
      "metadata": {
        "id": "FKb8_JQB1IQm"
      },
      "outputs": [],
      "source": [
        "# Fit the model\n",
        "new_model = grid_search.best_estimator_\n",
        "new_model.fit(x_train,y_train)\n",
        "y_pred_test = new_model.predict(x_test)\n",
        "y_pred_train = new_model.predict(x_train)"
      ]
    },
    {
      "cell_type": "code",
      "execution_count": null,
      "metadata": {
        "colab": {
          "base_uri": "https://localhost:8080/"
        },
        "id": "on6DHKtY20xt",
        "outputId": "991b30b4-3b95-4066-bd28-c86455bbbfb3"
      },
      "outputs": [
        {
          "name": "stdout",
          "output_type": "stream",
          "text": [
            "confusion_matrix: \n",
            "[[7681  708]\n",
            " [ 679 7607]]\n",
            "Training Accuracy is: 0.9168215892053972\n",
            "Classification Report is: \n",
            "              precision    recall  f1-score   support\n",
            "\n",
            "       False       0.92      0.92      0.92      8389\n",
            "        True       0.91      0.92      0.92      8286\n",
            "\n",
            "    accuracy                           0.92     16675\n",
            "   macro avg       0.92      0.92      0.92     16675\n",
            "weighted avg       0.92      0.92      0.92     16675\n",
            "\n"
          ]
        }
      ],
      "source": [
        "# Training Performance after Hyperparameter tuning\n",
        "\n",
        "cnf_mat = confusion_matrix(y_pred_train,y_train)\n",
        "accuracy = accuracy_score(y_pred_train,y_train)\n",
        "report = classification_report(y_pred_train,y_train)\n",
        "\n",
        "print(f\"confusion_matrix: \\n{cnf_mat}\")\n",
        "print(f\"Training Accuracy is: {accuracy}\")\n",
        "print(f\"Classification Report is: \\n{report}\")"
      ]
    },
    {
      "cell_type": "code",
      "execution_count": null,
      "metadata": {
        "colab": {
          "base_uri": "https://localhost:8080/"
        },
        "id": "-696uqKr21l1",
        "outputId": "ccba3482-e638-46fd-fa57-82d097d5551d"
      },
      "outputs": [
        {
          "name": "stdout",
          "output_type": "stream",
          "text": [
            "confusion_matrix: \n",
            "[[1852  191]\n",
            " [ 210 1916]]\n",
            "Testing Accuracy is: 0.9038138642360278\n",
            "Classification Report is: \n",
            "              precision    recall  f1-score   support\n",
            "\n",
            "       False       0.90      0.91      0.90      2043\n",
            "        True       0.91      0.90      0.91      2126\n",
            "\n",
            "    accuracy                           0.90      4169\n",
            "   macro avg       0.90      0.90      0.90      4169\n",
            "weighted avg       0.90      0.90      0.90      4169\n",
            "\n"
          ]
        }
      ],
      "source": [
        "# Testing Performance after Hyperparameter tuning\n",
        "\n",
        "cnf_mat = confusion_matrix(y_pred_test,y_test)\n",
        "accuracy = accuracy_score(y_pred_test,y_test)\n",
        "report = classification_report(y_pred_test,y_test)\n",
        "\n",
        "print(f\"confusion_matrix: \\n{cnf_mat}\")\n",
        "print(f\"Testing Accuracy is: {accuracy}\")\n",
        "print(f\"Classification Report is: \\n{report}\")"
      ]
    },
    {
      "cell_type": "markdown",
      "metadata": {
        "id": "eb6UKU9l31nj"
      },
      "source": [
        "After hyperparameter tuning Training Accuracy is 91.68 with precision and recall is 0.92</br>\n",
        "And Testing Accuracy is 90.38 with precision is 0.90 and recall is 0.91</br>\n",
        "Now model is free from Overfitting"
      ]
    }
  ],
  "metadata": {
    "colab": {
      "provenance": []
    },
    "kernelspec": {
      "display_name": "Python 3",
      "name": "python3"
    },
    "language_info": {
      "name": "python"
    }
  },
  "nbformat": 4,
  "nbformat_minor": 0
}
